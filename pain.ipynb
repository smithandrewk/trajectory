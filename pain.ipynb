{
 "cells": [
  {
   "cell_type": "code",
   "execution_count": 90,
   "metadata": {},
   "outputs": [],
   "source": [
    "import time\n",
    "def follow(thefile):\n",
    "    thefile.seek(0,2) # Go to the end of the file\n",
    "    while True:\n",
    "        line = thefile.readline()\n",
    "        if not line:\n",
    "            time.sleep(0.1) # Sleep briefly\n",
    "            continue\n",
    "        yield line\n",
    "\"\"\"\n",
    "loggingTime(txt),\n",
    "loggingSample(N),\n",
    "accelerometerTimestamp_sinceReboot(s),\n",
    "accel    erometerAccelerationX(G),\n",
    "accelerometerAccelerationY(G),\n",
    "accelerometerAccelerat    ionZ(G),\n",
    "gyroTimestamp_sinceReboot(s),\n",
    "gyroRotationX(rad/s),\n",
    "gyroRotationY(rad/s    ),\n",
    "gyroRotationZ(rad/s),\n",
    "magnetometerTimestamp_sinceReboot(s),\n",
    "magnetometerX(µT)    ,\n",
    "magnetometerY(µT),\n",
    "magnetometerZ(µT)\n",
    "\"\"\"\n",
    "def process_line(line):\n",
    "    line = line.strip()\n",
    "    line = line.split(',')\n",
    "    t = line[2]\n",
    "    acc = line[3:6]\n",
    "    return t,acc"
   ]
  },
  {
   "cell_type": "code",
   "execution_count": 94,
   "metadata": {},
   "outputs": [
    {
     "name": "stdout",
     "output_type": "stream",
     "text": [
      "52127.29759766667 ['0.0018157958984375', '0.003814697265625', '-1.0010986328125']\n",
      "52128.2981395 ['0.0012359619140625', '0.004547119140625', '-1.001190185546875']\n",
      "52129.29868262501 ['0.0024566650390625', '0.004608154296875', '-1.000778198242188']\n",
      "52130.29922575 ['0.00390625', '0.0047607421875', '-1.000320434570312']\n",
      "52131.29976879167 ['0.001739501953125', '0.0056610107421875', '-1.001007080078125']\n",
      "52132.30031200001 ['0.00274658203125', '0.005157470703125', '-0.9996185302734375']\n",
      "52133.30085462501 ['0.0033721923828125', '0.0057373046875', '-1.00250244140625']\n",
      "52134.30139816667 ['0.00439453125', '0.0053253173828125', '-1.000534057617188']\n",
      "52135.301941375 ['0.0018463134765625', '0.0055999755859375', '-1.001434326171875']\n",
      "52136.302484 ['0.0040740966796875', '0.006103515625', '-1.001434326171875']\n",
      "52137.30302666667 ['0.002960205078125', '0.00494384765625', '-1.001312255859375']\n",
      "52138.3035705 ['0.0028533935546875', '0.0057525634765625', '-1.000289916992188']\n",
      "52139.30411441667 ['0.001800537109375', '0.0052947998046875', '-1.000106811523438']\n"
     ]
    },
    {
     "ename": "KeyboardInterrupt",
     "evalue": "",
     "output_type": "error",
     "traceback": [
      "\u001b[0;31m---------------------------------------------------------------------------\u001b[0m",
      "\u001b[0;31mKeyboardInterrupt\u001b[0m                         Traceback (most recent call last)",
      "\u001b[0;32m/tmp/ipykernel_51560/2769035467.py\u001b[0m in \u001b[0;36m<module>\u001b[0;34m\u001b[0m\n\u001b[1;32m      3\u001b[0m \u001b[0;34m\u001b[0m\u001b[0m\n\u001b[1;32m      4\u001b[0m \u001b[0mf\u001b[0m \u001b[0;34m=\u001b[0m \u001b[0mopen\u001b[0m\u001b[0;34m(\u001b[0m\u001b[0;34m'../stream.csv'\u001b[0m\u001b[0;34m,\u001b[0m\u001b[0;34m'r'\u001b[0m\u001b[0;34m)\u001b[0m\u001b[0;34m\u001b[0m\u001b[0;34m\u001b[0m\u001b[0m\n\u001b[0;32m----> 5\u001b[0;31m \u001b[0;32mfor\u001b[0m \u001b[0mline\u001b[0m \u001b[0;32min\u001b[0m \u001b[0mfollow\u001b[0m\u001b[0;34m(\u001b[0m\u001b[0mf\u001b[0m\u001b[0;34m)\u001b[0m\u001b[0;34m:\u001b[0m\u001b[0;34m\u001b[0m\u001b[0;34m\u001b[0m\u001b[0m\n\u001b[0m\u001b[1;32m      6\u001b[0m     \u001b[0mt\u001b[0m\u001b[0;34m,\u001b[0m\u001b[0macc\u001b[0m \u001b[0;34m=\u001b[0m \u001b[0mprocess_line\u001b[0m\u001b[0;34m(\u001b[0m\u001b[0mline\u001b[0m\u001b[0;34m)\u001b[0m\u001b[0;34m\u001b[0m\u001b[0;34m\u001b[0m\u001b[0m\n\u001b[1;32m      7\u001b[0m     \u001b[0mprint\u001b[0m\u001b[0;34m(\u001b[0m\u001b[0mt\u001b[0m\u001b[0;34m,\u001b[0m\u001b[0macc\u001b[0m\u001b[0;34m)\u001b[0m\u001b[0;34m\u001b[0m\u001b[0;34m\u001b[0m\u001b[0m\n",
      "\u001b[0;32m/tmp/ipykernel_51560/3373710826.py\u001b[0m in \u001b[0;36mfollow\u001b[0;34m(thefile)\u001b[0m\n\u001b[1;32m      5\u001b[0m         \u001b[0mline\u001b[0m \u001b[0;34m=\u001b[0m \u001b[0mthefile\u001b[0m\u001b[0;34m.\u001b[0m\u001b[0mreadline\u001b[0m\u001b[0;34m(\u001b[0m\u001b[0;34m)\u001b[0m\u001b[0;34m\u001b[0m\u001b[0;34m\u001b[0m\u001b[0m\n\u001b[1;32m      6\u001b[0m         \u001b[0;32mif\u001b[0m \u001b[0;32mnot\u001b[0m \u001b[0mline\u001b[0m\u001b[0;34m:\u001b[0m\u001b[0;34m\u001b[0m\u001b[0;34m\u001b[0m\u001b[0m\n\u001b[0;32m----> 7\u001b[0;31m             \u001b[0mtime\u001b[0m\u001b[0;34m.\u001b[0m\u001b[0msleep\u001b[0m\u001b[0;34m(\u001b[0m\u001b[0;36m0.1\u001b[0m\u001b[0;34m)\u001b[0m \u001b[0;31m# Sleep briefly\u001b[0m\u001b[0;34m\u001b[0m\u001b[0;34m\u001b[0m\u001b[0m\n\u001b[0m\u001b[1;32m      8\u001b[0m             \u001b[0;32mcontinue\u001b[0m\u001b[0;34m\u001b[0m\u001b[0;34m\u001b[0m\u001b[0m\n\u001b[1;32m      9\u001b[0m         \u001b[0;32myield\u001b[0m \u001b[0mline\u001b[0m\u001b[0;34m\u001b[0m\u001b[0;34m\u001b[0m\u001b[0m\n",
      "\u001b[0;31mKeyboardInterrupt\u001b[0m: "
     ]
    },
    {
     "data": {
      "image/png": "[encoded data removed]",
      "text/plain": [
       "<Figure size 432x288 with 1 Axes>"
      ]
     },
     "metadata": {
      "needs_background": "light"
     },
     "output_type": "display_data"
    }
   ],
   "source": [
    "from matplotlib import pyplot as plt\n",
    "ax = plt.subplot(1, 1, 1)\n",
    "\n",
    "f = open('../stream.csv','r')\n",
    "for line in follow(f):\n",
    "    t,acc = process_line(line)\n",
    "    print(t,acc)\n",
    "    ax.plot(t,acc[0])\n",
    "\n",
    "    "
   ]
  },
  {
   "cell_type": "code",
   "execution_count": null,
   "metadata": {},
   "outputs": [],
   "source": []
  }
 ],
 "metadata": {
  "interpreter": {
   "hash": "916dbcbb3f70747c44a77c7bcd40155683ae19c65e1c03b4aa3499c5328201f1"
  },
  "kernelspec": {
   "display_name": "Python 3.8.10 64-bit",
   "language": "python",
   "name": "python3"
  },
  "language_info": {
   "codemirror_mode": {
    "name": "ipython",
    "version": 3
   },
   "file_extension": ".py",
   "mimetype": "text/x-python",
   "name": "python",
   "nbconvert_exporter": "python",
   "pygments_lexer": "ipython3",
   "version": "3.8.10"
  },
  "orig_nbformat": 4
 },
 "nbformat": 4,
 "nbformat_minor": 2
}
