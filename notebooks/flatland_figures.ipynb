{
 "cells": [
  {
   "cell_type": "code",
   "execution_count": 11,
   "metadata": {},
   "outputs": [
    {
     "name": "stderr",
     "output_type": "stream",
     "text": [
      "/tmp/ipykernel_12132/2562383026.py:51: UserWarning: Matplotlib is currently using pgf, which is a non-GUI backend, so cannot show the figure.\n",
      "  plt.show()\n"
     ]
    },
    {
     "data": {
      "text/plain": [
       "<Figure size 518.4x320.4 with 0 Axes>"
      ]
     },
     "metadata": {},
     "output_type": "display_data"
    },
    {
     "data": {
      "image/png": "[encoded data removed]",
      "text/plain": [
       "<Figure size 360x360 with 1 Axes>"
      ]
     },
     "metadata": {},
     "output_type": "display_data"
    }
   ],
   "source": [
    "import numpy as np                 # v 1.19.2\n",
    "import matplotlib.pyplot as plt    # v 3.3.2\n",
    "\n",
    "\n",
    "# Select length of axes and the space between tick labels\n",
    "xmin, xmax, ymin, ymax = -5, 5, -5, 5\n",
    "ticks_frequency = 1\n",
    "\n",
    "# Plot points\n",
    "plt.figure(1)\n",
    "# ax = plt.plot(figsize=(10, 10))\n",
    "\n",
    "fig, ax = plt.subplots(figsize=(5, 5))\n",
    " \n",
    "fig.patch.set_facecolor('#ffffff')\n",
    "ax.set(xlim=(xmin-1, xmax+1), ylim=(ymin-1, ymax+1), aspect='equal')\n",
    "ax.spines['bottom'].set_position('zero')\n",
    "ax.spines['left'].set_position('zero')\n",
    "ax.spines['top'].set_visible(False)\n",
    "ax.spines['right'].set_visible(False)\n",
    "ax.set_xlabel('$x$', size=14, labelpad=-24, x=1.02)\n",
    "ax.set_ylabel('$y$', size=14, labelpad=-21, y=1.02, rotation=0)\n",
    "plt.text(0.49, 0.49, r\"$O$\", ha='right', va='top',\n",
    "    transform=ax.transAxes,\n",
    "         horizontalalignment='center', fontsize=14)\n",
    "x_ticks = np.arange(xmin, xmax+1, ticks_frequency)\n",
    "y_ticks = np.arange(ymin, ymax+1, ticks_frequency)\n",
    "ax.set_xticks(ticks=[])\n",
    "ax.set_yticks(ticks=[])\n",
    "ax.set_xticks(np.arange(xmin, xmax+1), minor=True)\n",
    "ax.set_yticks(np.arange(ymin, ymax+1), minor=True)\n",
    "# ax.grid(which='both', color='grey', linewidth=1, linestyle='-', alpha=0.2)\n",
    "import matplotlib\n",
    "matplotlib.use(\"pgf\")\n",
    "plt.style.use(\"../utils/style.txt\")\n",
    "matplotlib.rcParams.update({\n",
    "    \"pgf.texsystem\": \"xelatex\",\n",
    "    'font.family': 'serif',\n",
    "    'text.usetex': True,\n",
    "    'pgf.rcfonts': False\n",
    "})\n",
    "from matplotlib.patches import Rectangle\n",
    "ax.add_patch(Rectangle((-1,-1),2,2,edgecolor='black',facecolor='none',lw=3))\n",
    "left, width = .25, .5\n",
    "bottom, height = .25, .5\n",
    "right = left + width\n",
    "top = bottom + height\n",
    "fig.text(0.5*(left+right), 0.49*(bottom+top), 'K',\n",
    "         horizontalalignment='center', verticalalignment='center',\n",
    "         fontsize=30,fontweight='bold', color='red',rotation=90)\n",
    "plt.show()\n",
    "plt.savefig(\"fig.pgf\")"
   ]
  },
  {
   "cell_type": "code",
   "execution_count": 10,
   "metadata": {},
   "outputs": [
    {
     "data": {
      "image/png": "[encoded data removed]",
      "text/plain": [
       "<Figure size 518.4x320.4 with 1 Axes>"
      ]
     },
     "metadata": {
      "needs_background": "light"
     },
     "output_type": "display_data"
    }
   ],
   "source": [
    "import matplotlib.pyplot as plt\n",
    "ax = plt.plot([0,1,2,3,4,5],[1,1,1,1,1,1])\n",
    "ax = plt.gca()\n",
    "ax.set_yticks([0,1])\n",
    "ax.set_xticks([0])\n",
    "plt.xticks([0,1],[0,'t'])\n",
    "# plt.show()\n",
    "matplotlib.use(\"pgf\")\n",
    "plt.style.use(\"../utils/style.txt\")\n",
    "matplotlib.rcParams.update({\n",
    "    \"pgf.texsystem\": \"xelatex\",\n",
    "    'font.family': 'serif',\n",
    "    'text.usetex': True,\n",
    "    'pgf.rcfonts': False\n",
    "})\n",
    "plt.savefig(\"fig.pgf\")"
   ]
  },
  {
   "cell_type": "code",
   "execution_count": 29,
   "metadata": {},
   "outputs": [],
   "source": [
    "def save_fig_as_pgf():\n",
    "    import matplotlib\n",
    "    matplotlib.use(\"pgf\")\n",
    "    plt.style.use(\"../utils/style.txt\")\n",
    "    matplotlib.rcParams.update({\n",
    "        \"pgf.texsystem\": \"xelatex\",\n",
    "        'font.family': 'serif',\n",
    "        'text.usetex': True,\n",
    "        'pgf.rcfonts': False\n",
    "    })\n",
    "    plt.savefig(\"fig.pgf\")\n",
    "\n"
   ]
  },
  {
   "cell_type": "code",
   "execution_count": 46,
   "metadata": {},
   "outputs": [
    {
     "name": "stderr",
     "output_type": "stream",
     "text": [
      "/usr/local/lib/python3.8/dist-packages/matplotlib/animation.py:973: UserWarning: Animation was deleted without rendering anything. This is most likely unintended. To prevent deletion, assign the Animation to a variable that exists for as long as you need the Animation.\n",
      "  warnings.warn(\n",
      "/tmp/ipykernel_12132/4016972647.py:25: UserWarning: Matplotlib is currently using pgf, which is a non-GUI backend, so cannot show the figure.\n",
      "  plt.show()\n"
     ]
    },
    {
     "data": {
      "text/plain": [
       "<Figure size 518.4x320.4 with 0 Axes>"
      ]
     },
     "metadata": {},
     "output_type": "display_data"
    },
    {
     "data": {
      "image/png": "[encoded data removed]",
      "text/plain": [
       "<Figure size 360x360 with 1 Axes>"
      ]
     },
     "metadata": {},
     "output_type": "display_data"
    }
   ],
   "source": [
    "import numpy as np\n",
    "from matplotlib import pyplot as plt\n",
    "from matplotlib import animation\n",
    "\n",
    "X, Y = np.mgrid[:2*np.pi:10j,:2*np.pi:5j]\n",
    "U = np.cos(X)\n",
    "V = np.sin(Y)\n",
    "\n",
    "fig, ax = plt.subplots(1,1)\n",
    "Q = ax.quiver(X, Y, U, V, pivot='mid', color='r', units='inches')\n",
    "\n",
    "print(U)"
   ]
  }
 ],
 "metadata": {
  "interpreter": {
   "hash": "916dbcbb3f70747c44a77c7bcd40155683ae19c65e1c03b4aa3499c5328201f1"
  },
  "kernelspec": {
   "display_name": "Python 3.8.10 64-bit",
   "name": "python3"
  },
  "language_info": {
   "codemirror_mode": {
    "name": "ipython",
    "version": 3
   },
   "file_extension": ".py",
   "mimetype": "text/x-python",
   "name": "python",
   "nbconvert_exporter": "python",
   "pygments_lexer": "ipython3",
   "version": "3.8.10"
  },
  "orig_nbformat": 4
 },
 "nbformat": 4,
 "nbformat_minor": 2
}
