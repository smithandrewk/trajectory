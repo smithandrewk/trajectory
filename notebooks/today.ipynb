{
 "cells": [
  {
   "cell_type": "code",
   "execution_count": 81,
   "metadata": {},
   "outputs": [],
   "source": [
    "from math import sin, cos,pi\n",
    "import numpy as np"
   ]
  },
  {
   "cell_type": "code",
   "execution_count": 161,
   "metadata": {},
   "outputs": [],
   "source": [
    "def get_rotation_matrix_from_yaw_pitch_roll(yaw,pitch,roll):\n",
    "    ## according to right hand rule,\n",
    "    # yaw = z rotation\n",
    "    # pitch = y rotation\n",
    "    # roll = x rotation\n",
    "    alpha = yaw\n",
    "    beta = pitch\n",
    "    gamma = roll\n",
    "    R_x = np.array([[1,0,0],[0,cos(gamma),-sin(gamma)],[0,sin(gamma),cos(gamma)]])\n",
    "    R_y = np.array([[cos(beta),0,sin(beta)],[0,1,0],[-sin(beta),0,cos(beta)]])\n",
    "    R_z = np.array([[cos(alpha),-sin(alpha),0],[sin(alpha),cos(alpha),0],[0,0,1]])\n",
    "    R = R_z @ R_y @ R_x\n",
    "    return R\n",
    "def get_rotation_quaternion_from_angular_velocity(angular_velocity):\n",
    "    if(np.array_equiv(angular_velocity,np.array([0,0,0]))):\n",
    "        # no rotation\n",
    "        return [1,0,0,0]\n",
    "    angle = np.linalg.norm(angular_velocity)\n",
    "    axis = angular_velocity/angle\n",
    "    return get_rotation_quaternion_from_axis_angle(angle,axis)\n",
    "def get_rotation_quaternion_from_axis_angle(angle,axis):\n",
    "    w = cos(angle/2)\n",
    "    x,y,z = sin(angle/2)*axis\n",
    "    return np.array([w,x,y,z])\n",
    "def get_conjugate_quaternion(quaternion):\n",
    "    ## if q is unit quaternion, q_inv = q_conj\n",
    "    w,x,y,z = quaternion\n",
    "    return np.array([w,-x,-y,-z])\n",
    "def is_unit_quaternion(quaternion):\n",
    "    return np.linalg.norm(quaternion)==1\n",
    "def q_mult(q1,q2):\n",
    "    ## also known as the Hamilton Product\n",
    "    w = q1[0]*q2[0]-q1[1]*q2[1]-q1[2]*q2[2]-q1[3]*q2[3]\n",
    "    x = q1[0]*q2[1]+q1[1]*q2[0]+q1[2]*q2[3]-q1[3]*q2[2]\n",
    "    y = q1[0]*q2[2]-q1[1]*q2[3]+q1[2]*q2[0]+q1[3]*q2[1]\n",
    "    z = q1[0]*q2[3]+q1[1]*q2[2]-q1[2]*q2[1]+q1[3]*q2[0]\n",
    "    return np.array([w,x,y,z])\n",
    "def rotate_vector_by_quaternion(vector,quaternion):\n",
    "    vector = np.array([0,vector[0],vector[1],vector[2]])\n",
    "    return q_mult(q_mult(quaternion,vector),get_conjugate_quaternion(quaternion))\n",
    "def rotate_basis_by_quaternion(quaternion,basis=np.array([[1,0,0],[0,1,0],[0,0,1]])):\n",
    "    rotated_basis = []\n",
    "    for v in basis:\n",
    "        rotated_basis.append(rotate_vector_by_quaternion(v,quaternion=q)[1:])\n",
    "    return np.array(rotated_basis).T\n"
   ]
  },
  {
   "cell_type": "code",
   "execution_count": 1,
   "metadata": {},
   "outputs": [
    {
     "ename": "NameError",
     "evalue": "name 'np' is not defined",
     "output_type": "error",
     "traceback": [
      "\u001b[0;31m---------------------------------------------------------------------------\u001b[0m",
      "\u001b[0;31mNameError\u001b[0m                                 Traceback (most recent call last)",
      "\u001b[0;32m/tmp/ipykernel_9098/703294534.py\u001b[0m in \u001b[0;36m<module>\u001b[0;34m\u001b[0m\n\u001b[0;32m----> 1\u001b[0;31m \u001b[0mangular_velocity\u001b[0m \u001b[0;34m=\u001b[0m \u001b[0mnp\u001b[0m\u001b[0;34m.\u001b[0m\u001b[0marray\u001b[0m\u001b[0;34m(\u001b[0m\u001b[0;34m[\u001b[0m\u001b[0;36m0\u001b[0m\u001b[0;34m,\u001b[0m\u001b[0;36m0\u001b[0m\u001b[0;34m,\u001b[0m\u001b[0;36m10\u001b[0m\u001b[0;34m]\u001b[0m\u001b[0;34m)\u001b[0m\u001b[0;34m\u001b[0m\u001b[0;34m\u001b[0m\u001b[0m\n\u001b[0m\u001b[1;32m      2\u001b[0m \u001b[0mq\u001b[0m \u001b[0;34m=\u001b[0m \u001b[0mget_rotation_quaternion_from_angular_velocity\u001b[0m\u001b[0;34m(\u001b[0m\u001b[0mangular_velocity\u001b[0m\u001b[0;34m)\u001b[0m\u001b[0;34m\u001b[0m\u001b[0;34m\u001b[0m\u001b[0m\n\u001b[1;32m      3\u001b[0m \u001b[0mprint\u001b[0m\u001b[0;34m(\u001b[0m\u001b[0mq\u001b[0m\u001b[0;34m)\u001b[0m\u001b[0;34m\u001b[0m\u001b[0;34m\u001b[0m\u001b[0m\n\u001b[1;32m      4\u001b[0m \u001b[0mangular_velocity\u001b[0m \u001b[0;34m=\u001b[0m \u001b[0mnp\u001b[0m\u001b[0;34m.\u001b[0m\u001b[0marray\u001b[0m\u001b[0;34m(\u001b[0m\u001b[0;34m[\u001b[0m\u001b[0;36m0\u001b[0m\u001b[0;34m,\u001b[0m\u001b[0;36m23\u001b[0m\u001b[0;34m,\u001b[0m\u001b[0;36m10\u001b[0m\u001b[0;34m]\u001b[0m\u001b[0;34m)\u001b[0m\u001b[0;34m\u001b[0m\u001b[0;34m\u001b[0m\u001b[0m\n\u001b[1;32m      5\u001b[0m \u001b[0mp\u001b[0m \u001b[0;34m=\u001b[0m \u001b[0mget_rotation_quaternion_from_angular_velocity\u001b[0m\u001b[0;34m(\u001b[0m\u001b[0mangular_velocity\u001b[0m\u001b[0;34m)\u001b[0m\u001b[0;34m\u001b[0m\u001b[0;34m\u001b[0m\u001b[0m\n",
      "\u001b[0;31mNameError\u001b[0m: name 'np' is not defined"
     ]
    }
   ],
   "source": [
    "# angular_velocity = np.array([0,0,10])\n",
    "# q = get_rotation_quaternion_from_angular_velocity(angular_velocity)\n",
    "# print(q)\n",
    "# angular_velocity = np.array([0,23,10])\n",
    "# p = get_rotation_quaternion_from_angular_velocity(angular_velocity)\n",
    "# print(p)\n",
    "# print(q_mult(q,p),q_mult(p,q))\n",
    "# basis = rotate_basis_by_quaternion(quaternion=q)\n",
    "# print(basis)\n",
    "# from pytransform3d.rotations import plot_basis\n",
    "# from pytransform3d.plot_utils import plot_vector\n",
    "# ax = plot_basis(ax=None,R=basis)"
   ]
  },
  {
   "cell_type": "code",
   "execution_count": null,
   "metadata": {},
   "outputs": [],
   "source": []
  }
 ],
 "metadata": {
  "interpreter": {
   "hash": "916dbcbb3f70747c44a77c7bcd40155683ae19c65e1c03b4aa3499c5328201f1"
  },
  "kernelspec": {
   "display_name": "Python 3.8.10 64-bit",
   "name": "python3"
  },
  "language_info": {
   "codemirror_mode": {
    "name": "ipython",
    "version": 3
   },
   "file_extension": ".py",
   "mimetype": "text/x-python",
   "name": "python",
   "nbconvert_exporter": "python",
   "pygments_lexer": "ipython3",
   "version": "3.8.10"
  },
  "orig_nbformat": 4
 },
 "nbformat": 4,
 "nbformat_minor": 2
}
