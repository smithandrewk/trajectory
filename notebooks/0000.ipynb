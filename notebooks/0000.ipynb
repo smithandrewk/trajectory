{
 "cells": [
  {
   "cell_type": "code",
   "execution_count": 4,
   "metadata": {},
   "outputs": [
    {
     "data": {
      "text/plain": [
       "array([[ 9.99920777e-01, -4.65637518e-04,  1.25786434e-02],\n",
       "       [ 2.03440350e-03,  9.92155386e-01, -1.24994207e-01],\n",
       "       [-1.24217668e-02,  1.25009895e-01,  9.92077732e-01]])"
      ]
     },
     "execution_count": 4,
     "metadata": {},
     "output_type": "execute_result"
    }
   ],
   "source": [
    "import numpy as np\n",
    "# from numpy.linalg.linalg import norm\n",
    "# import pytransform3d.visualizer as pv\n",
    "# from pytransform3d import rotations as pr\n",
    "from math import pi,sin\n",
    "\n",
    "angular_velocity = np.zeros((101,3))\n",
    "X = np.linspace(0,2*pi,101)\n",
    "for i,x in enumerate(X):\n",
    "    angular_velocity[i,0] = sin(x)\n",
    "    angular_velocity[i,1] = sin(x)/10\n",
    "    angular_velocity[i,2] = sin(x)/100\n",
    "time = np.linspace(0,100,101,dtype=int)\n",
    "angular_velocity = angular_velocity[1:,:]\n",
    "\n",
    "from utils import get_axis_angle\n",
    "t = 1\n",
    "axis,angle = get_axis_angle(dt=time[t]-time[t-1],angular_velocity=angular_velocity[t,:])\n",
    "\n",
    "from pytransform3d.rotations import matrix_from_axis_angle,quaternion_integrate,compact_axis_angle\n",
    "matrix_from_axis_angle([axis[0],axis[1],axis[2],angle])\n",
    "\n",
    "compact_axis_angle([axis[0],axis[1],axis[2],angle])"
   ]
  }
 ],
 "metadata": {
  "interpreter": {
   "hash": "916dbcbb3f70747c44a77c7bcd40155683ae19c65e1c03b4aa3499c5328201f1"
  },
  "kernelspec": {
   "display_name": "Python 3.8.10 64-bit",
   "name": "python3"
  },
  "language_info": {
   "codemirror_mode": {
    "name": "ipython",
    "version": 3
   },
   "file_extension": ".py",
   "mimetype": "text/x-python",
   "name": "python",
   "nbconvert_exporter": "python",
   "pygments_lexer": "ipython3",
   "version": "3.8.10"
  },
  "orig_nbformat": 4
 },
 "nbformat": 4,
 "nbformat_minor": 2
}
