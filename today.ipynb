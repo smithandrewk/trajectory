{
 "cells": [
  {
   "cell_type": "code",
   "execution_count": 81,
   "metadata": {},
   "outputs": [],
   "source": [
    "from math import sin, cos,pi\n",
    "import numpy as np"
   ]
  },
  {
   "cell_type": "code",
   "execution_count": 161,
   "metadata": {},
   "outputs": [],
   "source": [
    "def get_rotation_matrix_from_yaw_pitch_roll(yaw,pitch,roll):\n",
    "    ## according to right hand rule,\n",
    "    # yaw = z rotation\n",
    "    # pitch = y rotation\n",
    "    # roll = x rotation\n",
    "    alpha = yaw\n",
    "    beta = pitch\n",
    "    gamma = roll\n",
    "    R_x = np.array([[1,0,0],[0,cos(gamma),-sin(gamma)],[0,sin(gamma),cos(gamma)]])\n",
    "    R_y = np.array([[cos(beta),0,sin(beta)],[0,1,0],[-sin(beta),0,cos(beta)]])\n",
    "    R_z = np.array([[cos(alpha),-sin(alpha),0],[sin(alpha),cos(alpha),0],[0,0,1]])\n",
    "    R = R_z @ R_y @ R_x\n",
    "    return R\n",
    "def get_rotation_quaternion_from_angular_velocity(angular_velocity):\n",
    "    if(np.array_equiv(angular_velocity,np.array([0,0,0]))):\n",
    "        # no rotation\n",
    "        return [1,0,0,0]\n",
    "    angle = np.linalg.norm(angular_velocity)\n",
    "    axis = angular_velocity/angle\n",
    "    return get_rotation_quaternion_from_axis_angle(angle,axis)\n",
    "def get_rotation_quaternion_from_axis_angle(angle,axis):\n",
    "    w = cos(angle/2)\n",
    "    x,y,z = sin(angle/2)*axis\n",
    "    return np.array([w,x,y,z])\n",
    "def get_conjugate_quaternion(quaternion):\n",
    "    ## if q is unit quaternion, q_inv = q_conj\n",
    "    w,x,y,z = quaternion\n",
    "    return np.array([w,-x,-y,-z])\n",
    "def is_unit_quaternion(quaternion):\n",
    "    return np.linalg.norm(quaternion)==1\n",
    "def q_mult(q1,q2):\n",
    "    ## also known as the Hamilton Product\n",
    "    w = q1[0]*q2[0]-q1[1]*q2[1]-q1[2]*q2[2]-q1[3]*q2[3]\n",
    "    x = q1[0]*q2[1]+q1[1]*q2[0]+q1[2]*q2[3]-q1[3]*q2[2]\n",
    "    y = q1[0]*q2[2]-q1[1]*q2[3]+q1[2]*q2[0]+q1[3]*q2[1]\n",
    "    z = q1[0]*q2[3]+q1[1]*q2[2]-q1[2]*q2[1]+q1[3]*q2[0]\n",
    "    return np.array([w,x,y,z])\n",
    "def rotate_vector_by_quaternion(vector,quaternion):\n",
    "    vector = np.array([0,vector[0],vector[1],vector[2]])\n",
    "    return q_mult(q_mult(quaternion,vector),get_conjugate_quaternion(quaternion))\n",
    "def rotate_basis_by_quaternion(quaternion,basis=np.array([[1,0,0],[0,1,0],[0,0,1]])):\n",
    "    rotated_basis = []\n",
    "    for v in basis:\n",
    "        rotated_basis.append(rotate_vector_by_quaternion(v,quaternion=q)[1:])\n",
    "    return np.array(rotated_basis).T\n"
   ]
  },
  {
   "cell_type": "code",
   "execution_count": 170,
   "metadata": {},
   "outputs": [
    {
     "name": "stdout",
     "output_type": "stream",
     "text": [
      "[ 0.28366219 -0.         -0.         -0.95892427]\n",
      "[ 0.99965063 -0.         -0.02423938 -0.01053886]\n",
      "[ 0.27345711 -0.02324373 -0.0068758  -0.96157873] [ 0.27345711  0.02324373 -0.0068758  -0.96157873]\n"
     ]
    }
   ],
   "source": [
    "angular_velocity = np.array([0,0,10])\n",
    "q = get_rotation_quaternion_from_angular_velocity(angular_velocity)\n",
    "print(q)\n",
    "angular_velocity = np.array([0,23,10])\n",
    "p = get_rotation_quaternion_from_angular_velocity(angular_velocity)\n",
    "print(p)\n",
    "print(q_mult(q,p),q_mult(p,q))\n",
    "# basis = rotate_basis_by_quaternion(quaternion=q)\n",
    "# print(basis)\n",
    "# from pytransform3d.rotations import plot_basis\n",
    "# from pytransform3d.plot_utils import plot_vector\n",
    "# ax = plot_basis(ax=None,R=basis)"
   ]
  },
  {
   "cell_type": "code",
   "execution_count": 222,
   "metadata": {},
   "outputs": [
    {
     "name": "stderr",
     "output_type": "stream",
     "text": [
      "/tmp/ipykernel_6795/1643862687.py:44: UserWarning: Matplotlib is currently using pgf, which is a non-GUI backend, so cannot show the figure.\n",
      "  plt.show()\n"
     ]
    },
    {
     "data": {
      "text/plain": [
       "<Figure size 518.4x320.4 with 0 Axes>"
      ]
     },
     "metadata": {},
     "output_type": "display_data"
    },
    {
     "data": {
      "image/png": "[encoded data removed]",
      "text/plain": [
       "<Figure size 360x360 with 1 Axes>"
      ]
     },
     "metadata": {},
     "output_type": "display_data"
    }
   ],
   "source": [
    "import numpy as np                 # v 1.19.2\n",
    "import matplotlib.pyplot as plt    # v 3.3.2\n",
    "\n",
    "\n",
    "# Select length of axes and the space between tick labels\n",
    "xmin, xmax, ymin, ymax = -5, 5, -5, 5\n",
    "ticks_frequency = 1\n",
    "\n",
    "# Plot points\n",
    "plt.figure(1)\n",
    "# ax = plt.plot(figsize=(10, 10))\n",
    "\n",
    "fig, ax = plt.subplots(figsize=(5, 5))\n",
    " \n",
    "fig.patch.set_facecolor('#ffffff')\n",
    "ax.set(xlim=(xmin-1, xmax+1), ylim=(ymin-1, ymax+1), aspect='equal')\n",
    "ax.spines['bottom'].set_position('zero')\n",
    "ax.spines['left'].set_position('zero')\n",
    "ax.spines['top'].set_visible(False)\n",
    "ax.spines['right'].set_visible(False)\n",
    "ax.set_xlabel('$x$', size=14, labelpad=-24, x=1.02)\n",
    "ax.set_ylabel('$y$', size=14, labelpad=-21, y=1.02, rotation=0)\n",
    "plt.text(0.49, 0.49, r\"$O$\", ha='right', va='top',\n",
    "    transform=ax.transAxes,\n",
    "         horizontalalignment='center', fontsize=14)\n",
    "x_ticks = np.arange(xmin, xmax+1, ticks_frequency)\n",
    "y_ticks = np.arange(ymin, ymax+1, ticks_frequency)\n",
    "ax.set_xticks(ticks=[])\n",
    "ax.set_yticks(ticks=[])\n",
    "ax.set_xticks(np.arange(xmin, xmax+1), minor=True)\n",
    "ax.set_yticks(np.arange(ymin, ymax+1), minor=True)\n",
    "# ax.grid(which='both', color='grey', linewidth=1, linestyle='-', alpha=0.2)\n",
    "import matplotlib\n",
    "matplotlib.use(\"pgf\")\n",
    "plt.style.use(\"style.txt\")\n",
    "matplotlib.rcParams.update({\n",
    "    \"pgf.texsystem\": \"xelatex\",\n",
    "    'font.family': 'serif',\n",
    "    'text.usetex': True,\n",
    "    'pgf.rcfonts': False\n",
    "})\n",
    "from matplotlib.patches import Rectangle\n",
    "ax.add_patch(Rectangle((-1,-1),2,2,edgecolor='black',facecolor='none',lw=3))\n",
    "plt.show()\n",
    "plt.savefig(\"fig.pgf\")"
   ]
  },
  {
   "cell_type": "code",
   "execution_count": 217,
   "metadata": {},
   "outputs": [],
   "source": []
  },
  {
   "cell_type": "code",
   "execution_count": null,
   "metadata": {},
   "outputs": [],
   "source": []
  }
 ],
 "metadata": {
  "interpreter": {
   "hash": "916dbcbb3f70747c44a77c7bcd40155683ae19c65e1c03b4aa3499c5328201f1"
  },
  "kernelspec": {
   "display_name": "Python 3.8.10 64-bit",
   "name": "python3"
  },
  "language_info": {
   "codemirror_mode": {
    "name": "ipython",
    "version": 3
   },
   "file_extension": ".py",
   "mimetype": "text/x-python",
   "name": "python",
   "nbconvert_exporter": "python",
   "pygments_lexer": "ipython3",
   "version": "3.8.10"
  },
  "orig_nbformat": 4
 },
 "nbformat": 4,
 "nbformat_minor": 2
}
