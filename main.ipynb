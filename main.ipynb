{
 "cells": [
  {
   "cell_type": "code",
   "execution_count": 7,
   "metadata": {},
   "outputs": [
    {
     "name": "stderr",
     "output_type": "stream",
     "text": [
      "/tmp/ipykernel_38671/2424557251.py:16: DtypeWarning: Columns (41,49) have mixed types.Specify dtype option on import or set low_memory=False.\n",
      "  df = preprocess_watch_data(\"drive.csv\",save=False,plot=False)\n"
     ]
    }
   ],
   "source": [
    "from utils.utils import preprocess_watch_data\n",
    "import numpy as np\n",
    "from matplotlib import pyplot as plt\n",
    "from matplotlib import animation\n",
    "from math import sin,cos\n",
    "from numpy import random\n",
    "import sys\n",
    "from utils.utils import preprocess_watch_data\n",
    "from utils.utils import get_yaw_pitch_roll\n",
    "from utils.utils import get_rotation_matrix_from_yaw_pitch_roll\n",
    "from utils.utils import get_rotated_basis\n",
    "from utils.utils import get_tilt_correction_rotation_matrix_from_accelerometer\n",
    "import numpy as np\n",
    "import pandas as pd\n",
    "\n",
    "df = preprocess_watch_data(\"drive.csv\",save=False,plot=False)\n",
    "df = df.fillna(method='ffill')"
   ]
  },
  {
   "cell_type": "code",
   "execution_count": 8,
   "metadata": {},
   "outputs": [],
   "source": [
    "acc = np.array(df[['acc_x','acc_y','acc_z']])\n",
    "omega = np.array(df[['gyr_x','gyr_y','gyr_z']])\n",
    "# df_omega = pd.DataFrame(omega)\n",
    "# df_omega = df_omega.fillna(method=\"ffill\")\n",
    "# omega = np.array(df_omega)\n",
    "time = df['gyr_t']\n",
    "yaw_pitch_rolls = [np.zeros(3)]\n",
    "Rs = [np.eye(3,3)]\n",
    "R_tilts = [np.eye(3,3)]\n",
    "bases = [np.eye(3,3)]\n",
    "velocities = [np.zeros(3)]\n",
    "positions = [np.zeros(3)]\n",
    "\n",
    "for i,_ in enumerate(time):\n",
    "    if (i==0):\n",
    "        # don't have delta t, next\n",
    "        continue\n",
    "    delta_t = time[i]-time[i-1]\n",
    "    yaw_pitch_roll = get_yaw_pitch_roll(i,omega,time,yaw_pitch_rolls)\n",
    "    yaw_pitch_rolls.append(yaw_pitch_roll)\n",
    "    R_tilt = get_tilt_correction_rotation_matrix_from_accelerometer(acc[i])\n",
    "    R = get_rotation_matrix_from_yaw_pitch_roll(*yaw_pitch_roll)\n",
    "    Rs.append(R)\n",
    "    R_tilts.append(R_tilt)\n",
    "    R = R @ R_tilt\n",
    "    acc_global = R @ acc[i]\n",
    "    acc_global = acc_global + np.array([0,0,1])\n",
    "    velocity = acc_global*delta_t + velocities[i-1]\n",
    "    velocities.append(velocity)\n",
    "    position = velocity*delta_t + positions[i-1]\n",
    "    positions.append(position)\n",
    "    bases.append(get_rotated_basis(bases[0],R))\n",
    "\n",
    "# from utils.utils import animate_trajectory\n",
    "# animate_trajectory(time,bases,trajectory=positions)\n",
    "\n",
    "# np.save('rpy.npy',np.array(yaw_pitch_rolls))\n",
    "# np.save('pos.npy',np.array(positions))"
   ]
  },
  {
   "cell_type": "code",
   "execution_count": 6,
   "metadata": {},
   "outputs": [
    {
     "data": {
      "text/plain": [
       "array([ 0.00000000e+00, -2.27344643e-07, -8.37905683e-07, ...,\n",
       "        6.96315134e+08,  6.96315106e+08,  6.96315079e+08])"
      ]
     },
     "execution_count": 6,
     "metadata": {},
     "output_type": "execute_result"
    }
   ],
   "source": [
    "p = np.array(positions).T\n",
    "t = np.arange(len(p.T))\n",
    "x = p[0]\n",
    "y = p[1]\n",
    "ax = plt.figure().add_subplot(projection='3d')\n",
    "\n",
    "# df[df.isna().any(axis=1)]\n",
    "p[0]"
   ]
  },
  {
   "cell_type": "code",
   "execution_count": null,
   "metadata": {},
   "outputs": [],
   "source": []
  }
 ],
 "metadata": {
  "interpreter": {
   "hash": "916dbcbb3f70747c44a77c7bcd40155683ae19c65e1c03b4aa3499c5328201f1"
  },
  "kernelspec": {
   "display_name": "Python 3.8.10 64-bit",
   "language": "python",
   "name": "python3"
  },
  "language_info": {
   "codemirror_mode": {
    "name": "ipython",
    "version": 3
   },
   "file_extension": ".py",
   "mimetype": "text/x-python",
   "name": "python",
   "nbconvert_exporter": "python",
   "pygments_lexer": "ipython3",
   "version": "3.8.10"
  },
  "orig_nbformat": 4
 },
 "nbformat": 4,
 "nbformat_minor": 2
}
